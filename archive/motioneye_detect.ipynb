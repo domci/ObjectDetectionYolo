{
 "cells": [
  {
   "cell_type": "code",
   "execution_count": 8,
   "metadata": {},
   "outputs": [
    {
     "name": "stdout",
     "output_type": "stream",
     "text": [
      "2018-12-21 21:59:37.978567+00:00 2018-12-21 22:59:37.978567+01:00\n"
     ]
    }
   ],
   "source": [
    "import pytz\n",
    "utc_now = pytz.utc.localize(datetime.datetime.now())\n",
    "pst_now = utc_now.astimezone(pytz.timezone(\"Europe/Berlin\"))\n",
    "print(utc_now, pst_now)"
   ]
  },
  {
   "cell_type": "code",
   "execution_count": 12,
   "metadata": {},
   "outputs": [
    {
     "data": {
      "text/plain": [
       "'2018-12-21'"
      ]
     },
     "execution_count": 12,
     "metadata": {},
     "output_type": "execute_result"
    }
   ],
   "source": [
    "now = datetime.datetime.now().astimezone(pytz.timezone(\"Europe/Berlin\"))\n",
    "str(now.year) + '-' + str(now.month) + '-' + ('0' + str(now.day) if now.day < 10 else str(now.day))"
   ]
  },
  {
   "cell_type": "code",
   "execution_count": null,
   "metadata": {},
   "outputs": [],
   "source": []
  }
 ],
 "metadata": {
  "kernelspec": {
   "display_name": "Python 3",
   "language": "python",
   "name": "python3"
  },
  "language_info": {
   "codemirror_mode": {
    "name": "ipython",
    "version": 3
   },
   "file_extension": ".py",
   "mimetype": "text/x-python",
   "name": "python",
   "nbconvert_exporter": "python",
   "pygments_lexer": "ipython3",
   "version": "3.7.1"
  }
 },
 "nbformat": 4,
 "nbformat_minor": 2
}
