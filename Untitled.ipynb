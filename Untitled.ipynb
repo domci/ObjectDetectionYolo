{
 "cells": [
  {
   "cell_type": "code",
   "execution_count": 22,
   "metadata": {},
   "outputs": [],
   "source": [
    "line = '1537385433.443  TEST 2018-09-19 12:30:33.443/PDT: INFO   Camera[FCECDA8F6A0D|Carport] STOPPING REC motionRecording:5ba2a3c8e4b0a0186831130f - DURATION:22s - START:1537385410778 END:1537385432778 in ChunkProcessingService-TaskExecutor'\n",
    "\n",
    "log = open('/home/cichons/unifi-video/logs/recording.log' + '\\n',\"a\")\n",
    "log.write(line)\n",
    "log.close() "
   ]
  }
 ],
 "metadata": {
  "kernelspec": {
   "display_name": "Python 3",
   "language": "python",
   "name": "python3"
  },
  "language_info": {
   "codemirror_mode": {
    "name": "ipython",
    "version": 3
   },
   "file_extension": ".py",
   "mimetype": "text/x-python",
   "name": "python",
   "nbconvert_exporter": "python",
   "pygments_lexer": "ipython3",
   "version": "3.6.5"
  }
 },
 "nbformat": 4,
 "nbformat_minor": 2
}
