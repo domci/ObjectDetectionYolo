{
 "cells": [
  {
   "cell_type": "code",
   "execution_count": 2,
   "metadata": {},
   "outputs": [],
   "source": [
    "# import the necessary packages\n",
    "from pyimagesearch.keyclipwriter import KeyClipWriter\n",
    "from imutils.video import VideoStream\n",
    "import argparse\n",
    "import datetime\n",
    "import imutils\n",
    "import time\n",
    "import cv2\n"
   ]
  },
  {
   "cell_type": "code",
   "execution_count": 3,
   "metadata": {},
   "outputs": [
    {
     "name": "stderr",
     "output_type": "stream",
     "text": [
      "usage: ipykernel_launcher.py [-h] -o OUTPUT [-p PICAMERA] [-f FPS] [-c CODEC]\n",
      "                             [-b BUFFER_SIZE]\n",
      "ipykernel_launcher.py: error: argument -f/--fps: invalid int value: '/root/.local/share/jupyter/runtime/kernel-cc03e437-f197-4e50-9f9c-af1c188895fe.json'\n"
     ]
    },
    {
     "ename": "SystemExit",
     "evalue": "2",
     "output_type": "error",
     "traceback": [
      "An exception has occurred, use %tb to see the full traceback.\n",
      "\u001b[0;31mSystemExit\u001b[0m\u001b[0;31m:\u001b[0m 2\n"
     ]
    },
    {
     "name": "stderr",
     "output_type": "stream",
     "text": [
      "/usr/local/lib/python3.6/dist-packages/IPython/core/interactiveshell.py:2971: UserWarning: To exit: use 'exit', 'quit', or Ctrl-D.\n",
      "  warn(\"To exit: use 'exit', 'quit', or Ctrl-D.\", stacklevel=1)\n"
     ]
    }
   ],
   "source": [
    "\n",
    "# construct the argument parse and parse the arguments\n",
    "ap = argparse.ArgumentParser()\n",
    "ap.add_argument(\"-o\", \"--output\", required=True,\n",
    "\thelp=\"path to output directory\")\n",
    "ap.add_argument(\"-p\", \"--picamera\", type=int, default=-1,\n",
    "\thelp=\"whether or not the Raspberry Pi camera should be used\")\n",
    "ap.add_argument(\"-f\", \"--fps\", type=int, default=20,\n",
    "\thelp=\"FPS of output video\")\n",
    "ap.add_argument(\"-c\", \"--codec\", type=str, default=\"MJPG\",\n",
    "\thelp=\"codec of output video\")\n",
    "ap.add_argument(\"-b\", \"--buffer-size\", type=int, default=32,\n",
    "\thelp=\"buffer size of video clip writer\")\n",
    "args = vars(ap.parse_args())\n",
    "\n",
    "\t# if the `q` key was pressed, break from the loop\n",
    "\tif key == ord(\"q\"):\n",
    "\t\tbreak\n",
    "\n",
    "# if we are in the middle of recording a clip, wrap it up\n",
    "if kcw.recording:\n",
    "\tkcw.finish()\n",
    "\n",
    "# do a bit of cleanup\n",
    "cv2.destroyAllWindows()\n",
    "vs.stop()"
   ]
  },
  {
   "cell_type": "code",
   "execution_count": null,
   "metadata": {},
   "outputs": [],
   "source": [
    "\n",
    "# initialize the video stream and allow the camera sensor to\n",
    "# warmup\n",
    "print(\"[INFO] warming up camera...\")\n",
    "vs = VideoStream(usePiCamera=args[\"picamera\"] > 0).start()\n",
    "time.sleep(2.0)\n",
    "\n",
    "# define the lower and upper boundaries of the \"green\" ball in\n",
    "# the HSV color space\n",
    "greenLower = (29, 86, 6)\n",
    "greenUpper = (64, 255, 255)\n",
    "\n",
    "# initialize key clip writer and the consecutive number of\n",
    "# frames that have *not* contained any action\n",
    "kcw = KeyClipWriter(bufSize=args[\"buffer_size\"])\n",
    "consecFrames = 0\n",
    "\n",
    "# keep looping\n",
    "while True:\n",
    "\t# grab the current frame, resize it, and initialize a\n",
    "\t# boolean used to indicate if the consecutive frames\n",
    "\t# counter should be updated\n",
    "\tframe = vs.read()\n",
    "\tframe = imutils.resize(frame, width=600)\n",
    "\tupdateConsecFrames = True\n",
    "\n",
    "\t# blur the frame and convert it to the HSV color space\n",
    "\tblurred = cv2.GaussianBlur(frame, (11, 11), 0)\n",
    "\thsv = cv2.cvtColor(blurred, cv2.COLOR_BGR2HSV)\n",
    "\n",
    "\t# construct a mask for the color \"green\", then perform\n",
    "\t# a series of dilations and erosions to remove any small\n",
    "\t# blobs left in the mask\n",
    "\tmask = cv2.inRange(hsv, greenLower, greenUpper)\n",
    "\tmask = cv2.erode(mask, None, iterations=2)\n",
    "\tmask = cv2.dilate(mask, None, iterations=2)\n",
    "\n",
    "\t# find contours in the mask\n",
    "\tcnts = cv2.findContours(mask.copy(), cv2.RETR_EXTERNAL,\n",
    "\t\tcv2.CHAIN_APPROX_SIMPLE)\n",
    "\tcnts = cnts[0] if imutils.is_cv2() else cnts[1]\n",
    "\n",
    "\t# only proceed if at least one contour was found\n",
    "\tif len(cnts) > 0:\n",
    "\t\t# find the largest contour in the mask, then use it\n",
    "\t\t# to compute the minimum enclosing circle\n",
    "\t\tc = max(cnts, key=cv2.contourArea)\n",
    "\t\t((x, y), radius) = cv2.minEnclosingCircle(c)\n",
    "\t\tupdateConsecFrames = radius <= 10\n",
    "\n",
    "\t\t# only proceed if the redius meets a minimum size\n",
    "\t\tif radius > 10:\n",
    "\t\t\t# reset the number of consecutive frames with\n",
    "\t\t\t# *no* action to zero and draw the circle\n",
    "\t\t\t# surrounding the object\n",
    "\t\t\tconsecFrames = 0\n",
    "\t\t\tcv2.circle(frame, (int(x), int(y)), int(radius),\n",
    "\t\t\t\t(0, 0, 255), 2)\n",
    "\n",
    "\t\t\t# if we are not already recording, start recording\n",
    "\t\t\tif not kcw.recording:\n",
    "\t\t\t\ttimestamp = datetime.datetime.now()\n",
    "\t\t\t\tp = \"{}/{}.avi\".format(args[\"output\"],\n",
    "\t\t\t\t\ttimestamp.strftime(\"%Y%m%d-%H%M%S\"))\n",
    "\t\t\t\tkcw.start(p, cv2.VideoWriter_fourcc(*args[\"codec\"]),\n",
    "\t\t\t\t\targs[\"fps\"])\n",
    "\n",
    "\t# otherwise, no action has taken place in this frame, so\n",
    "\t# increment the number of consecutive frames that contain\n",
    "\t# no action\n",
    "\tif updateConsecFrames:\n",
    "\t\tconsecFrames += 1\n",
    "\n",
    "\t# update the key frame clip buffer\n",
    "\tkcw.update(frame)\n",
    "\n",
    "\t# if we are recording and reached a threshold on consecutive\n",
    "\t# number of frames with no action, stop recording the clip\n",
    "\tif kcw.recording and consecFrames == args[\"buffer_size\"]:\n",
    "\t\tkcw.finish()\n",
    "\n",
    "\t# show the frame\n",
    "\tcv2.imshow(\"Frame\", frame)\n",
    "\tkey = cv2.waitKey(1) & 0xFF\n"
   ]
  }
 ],
 "metadata": {
  "kernelspec": {
   "display_name": "Python 3",
   "language": "python",
   "name": "python3"
  },
  "language_info": {
   "codemirror_mode": {
    "name": "ipython",
    "version": 3
   },
   "file_extension": ".py",
   "mimetype": "text/x-python",
   "name": "python",
   "nbconvert_exporter": "python",
   "pygments_lexer": "ipython3",
   "version": "3.6.6"
  }
 },
 "nbformat": 4,
 "nbformat_minor": 2
}
